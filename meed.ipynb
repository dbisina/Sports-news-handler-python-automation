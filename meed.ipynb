{
 "cells": [
  {
   "cell_type": "code",
   "execution_count": 1,
   "metadata": {},
   "outputs": [],
   "source": [
    "from selenium import webdriver"
   ]
  },
  {
   "cell_type": "code",
   "execution_count": 6,
   "metadata": {},
   "outputs": [],
   "source": [
    "from selenium.webdriver.chrome.options import Options"
   ]
  },
  {
   "cell_type": "code",
   "execution_count": 7,
   "metadata": {},
   "outputs": [],
   "source": [
    "from selenium.webdriver.chrome.service import Service"
   ]
  },
  {
   "cell_type": "code",
   "execution_count": 8,
   "metadata": {},
   "outputs": [],
   "source": [
    "website = 'https://www.thesun.co.uk/sport/football/'\n",
    "path = \"/Users/danie/Downloads/chromedriver.exe \""
   ]
  },
  {
   "cell_type": "code",
   "execution_count": 9,
   "metadata": {},
   "outputs": [],
   "source": [
    "#headless option -- everything is done in the background\n",
    "options = Options()\n",
    "options.headless = True\n",
    "\n",
    "service = Service(executable_path=path)\n",
    "driver = webdriver.Chrome(service=service, options=options)\n",
    "driver.get(website)"
   ]
  },
  {
   "cell_type": "code",
   "execution_count": null,
   "metadata": {},
   "outputs": [],
   "source": [
    "#headed option - that is the process and broswer is hown\n",
    "service = Service(executable_path=path)\n",
    "driver = webdriver.Chrome(service=service)\n",
    "driver.get(website)"
   ]
  },
  {
   "cell_type": "code",
   "execution_count": 10,
   "metadata": {},
   "outputs": [],
   "source": [
    "containers = driver.find_elements(by=\"xpath\", value='//div[@class=\"teaser__copy-container\"]')\n",
    "\n",
    "titles = []\n",
    "subtitles = []\n",
    "links = []\n",
    "\n",
    "\n",
    "for container in containers:\n",
    "    title=container.find_element(by=\"xpath\", value='./a/h3').text\n",
    "    subtitle=container.find_element(by=\"xpath\", value='./a/p').text\n",
    "    link=container.find_element(by=\"xpath\", value='./a').get_attribute(\"href\")\n",
    "    titles.append(title)\n",
    "    subtitles.append(subtitle)\n",
    "    links.append(link)\n"
   ]
  },
  {
   "cell_type": "code",
   "execution_count": 11,
   "metadata": {},
   "outputs": [],
   "source": [
    "import pandas as pd"
   ]
  },
  {
   "cell_type": "code",
   "execution_count": 12,
   "metadata": {},
   "outputs": [],
   "source": [
    "dict = {'title':titles,\n",
    "        'subtitle':subtitles,\n",
    "        'link':links}\n",
    "\n",
    "df_headlines = pd.DataFrame(dict)"
   ]
  },
  {
   "cell_type": "code",
   "execution_count": 13,
   "metadata": {},
   "outputs": [],
   "source": [
    "df_headlines.to_csv('headline-headless.csv')"
   ]
  },
  {
   "cell_type": "code",
   "execution_count": 14,
   "metadata": {},
   "outputs": [],
   "source": [
    "driver.quit()"
   ]
  },
  {
   "cell_type": "code",
   "execution_count": null,
   "metadata": {},
   "outputs": [],
   "source": [
    "%pip install pyinstaller"
   ]
  }
 ],
 "metadata": {
  "kernelspec": {
   "display_name": "Python 3.10.4 64-bit",
   "language": "python",
   "name": "python3"
  },
  "language_info": {
   "codemirror_mode": {
    "name": "ipython",
    "version": 3
   },
   "file_extension": ".py",
   "mimetype": "text/x-python",
   "name": "python",
   "nbconvert_exporter": "python",
   "pygments_lexer": "ipython3",
   "version": "3.10.4"
  },
  "orig_nbformat": 4,
  "vscode": {
   "interpreter": {
    "hash": "0f2f6c680cf484319d387fabac80ca4ff4fc33965036e02100b3fe02600f1423"
   }
  }
 },
 "nbformat": 4,
 "nbformat_minor": 2
}
